{
 "cells": [
  {
   "cell_type": "markdown",
   "metadata": {},
   "source": [
    "# Chapter 4 Lab - Classifaction Models"
   ]
  },
  {
   "cell_type": "markdown",
   "metadata": {},
   "source": [
    "### In this lab we will analyse stock market data in order to produce a qualitative prediction for whether the share price of the S&P 500 index will increase or decrease on a given day."
   ]
  },
  {
   "cell_type": "code",
   "execution_count": 31,
   "metadata": {},
   "outputs": [],
   "source": [
    "import numpy as np\n",
    "import matplotlib.pyplot as plt\n",
    "import pandas as pd\n",
    "import math\n",
    "from patsy import dmatrices\n",
    "import statsmodels.discrete.discrete_model as sm\n",
    "import statsmodels.formula.api as smf\n",
    "import statsmodels.api as sma\n",
    "from statsmodels.graphics.regressionplots import *\n",
    "from sklearn import datasets, linear_model\n",
    "from sklearn.metrics import confusion_matrix\n",
    "from sklearn.discriminant_analysis import LinearDiscriminantAnalysis as LDA\n",
    "from sklearn.discriminant_analysis import QuadraticDiscriminantAnalysis as QDA\n",
    "from sklearn.naive_bayes import GaussianNB as NB\n",
    "from sklearn.neighbors import KNeighborsClassifier as KNN\n",
    "from sklearn import preprocessing"
   ]
  },
  {
   "cell_type": "markdown",
   "metadata": {},
   "source": [
    "## 1. The Stock Market Data Set"
   ]
  },
  {
   "cell_type": "code",
   "execution_count": 4,
   "metadata": {},
   "outputs": [
    {
     "data": {
      "text/html": [
       "<div>\n",
       "<style scoped>\n",
       "    .dataframe tbody tr th:only-of-type {\n",
       "        vertical-align: middle;\n",
       "    }\n",
       "\n",
       "    .dataframe tbody tr th {\n",
       "        vertical-align: top;\n",
       "    }\n",
       "\n",
       "    .dataframe thead th {\n",
       "        text-align: right;\n",
       "    }\n",
       "</style>\n",
       "<table border=\"1\" class=\"dataframe\">\n",
       "  <thead>\n",
       "    <tr style=\"text-align: right;\">\n",
       "      <th></th>\n",
       "      <th>Year</th>\n",
       "      <th>Lag1</th>\n",
       "      <th>Lag2</th>\n",
       "      <th>Lag3</th>\n",
       "      <th>Lag4</th>\n",
       "      <th>Lag5</th>\n",
       "      <th>Volume</th>\n",
       "      <th>Today</th>\n",
       "      <th>Direction</th>\n",
       "    </tr>\n",
       "  </thead>\n",
       "  <tbody>\n",
       "    <tr>\n",
       "      <th>0</th>\n",
       "      <td>2001</td>\n",
       "      <td>0.381</td>\n",
       "      <td>-0.192</td>\n",
       "      <td>-2.624</td>\n",
       "      <td>-1.055</td>\n",
       "      <td>5.010</td>\n",
       "      <td>1.1913</td>\n",
       "      <td>0.959</td>\n",
       "      <td>Up</td>\n",
       "    </tr>\n",
       "    <tr>\n",
       "      <th>1</th>\n",
       "      <td>2001</td>\n",
       "      <td>0.959</td>\n",
       "      <td>0.381</td>\n",
       "      <td>-0.192</td>\n",
       "      <td>-2.624</td>\n",
       "      <td>-1.055</td>\n",
       "      <td>1.2965</td>\n",
       "      <td>1.032</td>\n",
       "      <td>Up</td>\n",
       "    </tr>\n",
       "    <tr>\n",
       "      <th>2</th>\n",
       "      <td>2001</td>\n",
       "      <td>1.032</td>\n",
       "      <td>0.959</td>\n",
       "      <td>0.381</td>\n",
       "      <td>-0.192</td>\n",
       "      <td>-2.624</td>\n",
       "      <td>1.4112</td>\n",
       "      <td>-0.623</td>\n",
       "      <td>Down</td>\n",
       "    </tr>\n",
       "    <tr>\n",
       "      <th>3</th>\n",
       "      <td>2001</td>\n",
       "      <td>-0.623</td>\n",
       "      <td>1.032</td>\n",
       "      <td>0.959</td>\n",
       "      <td>0.381</td>\n",
       "      <td>-0.192</td>\n",
       "      <td>1.2760</td>\n",
       "      <td>0.614</td>\n",
       "      <td>Up</td>\n",
       "    </tr>\n",
       "    <tr>\n",
       "      <th>4</th>\n",
       "      <td>2001</td>\n",
       "      <td>0.614</td>\n",
       "      <td>-0.623</td>\n",
       "      <td>1.032</td>\n",
       "      <td>0.959</td>\n",
       "      <td>0.381</td>\n",
       "      <td>1.2057</td>\n",
       "      <td>0.213</td>\n",
       "      <td>Up</td>\n",
       "    </tr>\n",
       "  </tbody>\n",
       "</table>\n",
       "</div>"
      ],
      "text/plain": [
       "   Year   Lag1   Lag2   Lag3   Lag4   Lag5  Volume  Today Direction\n",
       "0  2001  0.381 -0.192 -2.624 -1.055  5.010  1.1913  0.959        Up\n",
       "1  2001  0.959  0.381 -0.192 -2.624 -1.055  1.2965  1.032        Up\n",
       "2  2001  1.032  0.959  0.381 -0.192 -2.624  1.4112 -0.623      Down\n",
       "3  2001 -0.623  1.032  0.959  0.381 -0.192  1.2760  0.614        Up\n",
       "4  2001  0.614 -0.623  1.032  0.959  0.381  1.2057  0.213        Up"
      ]
     },
     "execution_count": 4,
     "metadata": {},
     "output_type": "execute_result"
    }
   ],
   "source": [
    "Smarket = pd.read_csv('Smarket.csv', header = 0)\n",
    "Smarket.head()"
   ]
  },
  {
   "cell_type": "code",
   "execution_count": 9,
   "metadata": {},
   "outputs": [
    {
     "name": "stdout",
     "output_type": "stream",
     "text": [
      "Columns in data set:\n",
      " Index(['Year', 'Lag1', 'Lag2', 'Lag3', 'Lag4', 'Lag5', 'Volume', 'Today',\n",
      "       'Direction'],\n",
      "      dtype='object')\n",
      "The data types in each column:\n",
      " Year           int64\n",
      "Lag1         float64\n",
      "Lag2         float64\n",
      "Lag3         float64\n",
      "Lag4         float64\n",
      "Lag5         float64\n",
      "Volume       float64\n",
      "Today        float64\n",
      "Direction     object\n",
      "dtype: object\n",
      "The shape of the data frame:\n",
      " (1250, 9)\n"
     ]
    }
   ],
   "source": [
    "print(\"Columns in data set:\\n\", Smarket.columns)\n",
    "print(\"The data types in each column:\\n\", Smarket.dtypes)\n",
    "print(\"The shape of the data frame:\\n\", Smarket.shape)"
   ]
  },
  {
   "cell_type": "code",
   "execution_count": 11,
   "metadata": {},
   "outputs": [
    {
     "data": {
      "text/html": [
       "<div>\n",
       "<style scoped>\n",
       "    .dataframe tbody tr th:only-of-type {\n",
       "        vertical-align: middle;\n",
       "    }\n",
       "\n",
       "    .dataframe tbody tr th {\n",
       "        vertical-align: top;\n",
       "    }\n",
       "\n",
       "    .dataframe thead th {\n",
       "        text-align: right;\n",
       "    }\n",
       "</style>\n",
       "<table border=\"1\" class=\"dataframe\">\n",
       "  <thead>\n",
       "    <tr style=\"text-align: right;\">\n",
       "      <th></th>\n",
       "      <th>Year</th>\n",
       "      <th>Lag1</th>\n",
       "      <th>Lag2</th>\n",
       "      <th>Lag3</th>\n",
       "      <th>Lag4</th>\n",
       "      <th>Lag5</th>\n",
       "      <th>Volume</th>\n",
       "      <th>Today</th>\n",
       "    </tr>\n",
       "  </thead>\n",
       "  <tbody>\n",
       "    <tr>\n",
       "      <th>count</th>\n",
       "      <td>1250.000000</td>\n",
       "      <td>1250.000000</td>\n",
       "      <td>1250.000000</td>\n",
       "      <td>1250.000000</td>\n",
       "      <td>1250.000000</td>\n",
       "      <td>1250.00000</td>\n",
       "      <td>1250.000000</td>\n",
       "      <td>1250.000000</td>\n",
       "    </tr>\n",
       "    <tr>\n",
       "      <th>mean</th>\n",
       "      <td>2003.016000</td>\n",
       "      <td>0.003834</td>\n",
       "      <td>0.003919</td>\n",
       "      <td>0.001716</td>\n",
       "      <td>0.001636</td>\n",
       "      <td>0.00561</td>\n",
       "      <td>1.478305</td>\n",
       "      <td>0.003138</td>\n",
       "    </tr>\n",
       "    <tr>\n",
       "      <th>std</th>\n",
       "      <td>1.409018</td>\n",
       "      <td>1.136299</td>\n",
       "      <td>1.136280</td>\n",
       "      <td>1.138703</td>\n",
       "      <td>1.138774</td>\n",
       "      <td>1.14755</td>\n",
       "      <td>0.360357</td>\n",
       "      <td>1.136334</td>\n",
       "    </tr>\n",
       "    <tr>\n",
       "      <th>min</th>\n",
       "      <td>2001.000000</td>\n",
       "      <td>-4.922000</td>\n",
       "      <td>-4.922000</td>\n",
       "      <td>-4.922000</td>\n",
       "      <td>-4.922000</td>\n",
       "      <td>-4.92200</td>\n",
       "      <td>0.356070</td>\n",
       "      <td>-4.922000</td>\n",
       "    </tr>\n",
       "    <tr>\n",
       "      <th>25%</th>\n",
       "      <td>2002.000000</td>\n",
       "      <td>-0.639500</td>\n",
       "      <td>-0.639500</td>\n",
       "      <td>-0.640000</td>\n",
       "      <td>-0.640000</td>\n",
       "      <td>-0.64000</td>\n",
       "      <td>1.257400</td>\n",
       "      <td>-0.639500</td>\n",
       "    </tr>\n",
       "    <tr>\n",
       "      <th>50%</th>\n",
       "      <td>2003.000000</td>\n",
       "      <td>0.039000</td>\n",
       "      <td>0.039000</td>\n",
       "      <td>0.038500</td>\n",
       "      <td>0.038500</td>\n",
       "      <td>0.03850</td>\n",
       "      <td>1.422950</td>\n",
       "      <td>0.038500</td>\n",
       "    </tr>\n",
       "    <tr>\n",
       "      <th>75%</th>\n",
       "      <td>2004.000000</td>\n",
       "      <td>0.596750</td>\n",
       "      <td>0.596750</td>\n",
       "      <td>0.596750</td>\n",
       "      <td>0.596750</td>\n",
       "      <td>0.59700</td>\n",
       "      <td>1.641675</td>\n",
       "      <td>0.596750</td>\n",
       "    </tr>\n",
       "    <tr>\n",
       "      <th>max</th>\n",
       "      <td>2005.000000</td>\n",
       "      <td>5.733000</td>\n",
       "      <td>5.733000</td>\n",
       "      <td>5.733000</td>\n",
       "      <td>5.733000</td>\n",
       "      <td>5.73300</td>\n",
       "      <td>3.152470</td>\n",
       "      <td>5.733000</td>\n",
       "    </tr>\n",
       "  </tbody>\n",
       "</table>\n",
       "</div>"
      ],
      "text/plain": [
       "              Year         Lag1         Lag2         Lag3         Lag4  \\\n",
       "count  1250.000000  1250.000000  1250.000000  1250.000000  1250.000000   \n",
       "mean   2003.016000     0.003834     0.003919     0.001716     0.001636   \n",
       "std       1.409018     1.136299     1.136280     1.138703     1.138774   \n",
       "min    2001.000000    -4.922000    -4.922000    -4.922000    -4.922000   \n",
       "25%    2002.000000    -0.639500    -0.639500    -0.640000    -0.640000   \n",
       "50%    2003.000000     0.039000     0.039000     0.038500     0.038500   \n",
       "75%    2004.000000     0.596750     0.596750     0.596750     0.596750   \n",
       "max    2005.000000     5.733000     5.733000     5.733000     5.733000   \n",
       "\n",
       "             Lag5       Volume        Today  \n",
       "count  1250.00000  1250.000000  1250.000000  \n",
       "mean      0.00561     1.478305     0.003138  \n",
       "std       1.14755     0.360357     1.136334  \n",
       "min      -4.92200     0.356070    -4.922000  \n",
       "25%      -0.64000     1.257400    -0.639500  \n",
       "50%       0.03850     1.422950     0.038500  \n",
       "75%       0.59700     1.641675     0.596750  \n",
       "max       5.73300     3.152470     5.733000  "
      ]
     },
     "execution_count": 11,
     "metadata": {},
     "output_type": "execute_result"
    }
   ],
   "source": [
    "Smarket.describe()"
   ]
  },
  {
   "cell_type": "markdown",
   "metadata": {},
   "source": [
    "### The stock market data set contains 1250 entries, corresponding to days ranging from the beginning of 2001 to the end of 2005. Each entry contains the percentage returns for the current day (variable 'Today'), as well as those for the previous 5 days (variables 'Lag1' through 'Lag5'). Additionally, the number of traded shares, in billions, for the current day are recorded in the variable 'Volume'. Finally, each entry contains the variable 'Direction', which shows whether the market was Up or Down on the respective day."
   ]
  },
  {
   "cell_type": "code",
   "execution_count": 12,
   "metadata": {},
   "outputs": [
    {
     "data": {
      "text/html": [
       "<div>\n",
       "<style scoped>\n",
       "    .dataframe tbody tr th:only-of-type {\n",
       "        vertical-align: middle;\n",
       "    }\n",
       "\n",
       "    .dataframe tbody tr th {\n",
       "        vertical-align: top;\n",
       "    }\n",
       "\n",
       "    .dataframe thead th {\n",
       "        text-align: right;\n",
       "    }\n",
       "</style>\n",
       "<table border=\"1\" class=\"dataframe\">\n",
       "  <thead>\n",
       "    <tr style=\"text-align: right;\">\n",
       "      <th></th>\n",
       "      <th>Year</th>\n",
       "      <th>Lag1</th>\n",
       "      <th>Lag2</th>\n",
       "      <th>Lag3</th>\n",
       "      <th>Lag4</th>\n",
       "      <th>Lag5</th>\n",
       "      <th>Volume</th>\n",
       "      <th>Today</th>\n",
       "    </tr>\n",
       "  </thead>\n",
       "  <tbody>\n",
       "    <tr>\n",
       "      <th>Year</th>\n",
       "      <td>1.000000</td>\n",
       "      <td>0.029700</td>\n",
       "      <td>0.030596</td>\n",
       "      <td>0.033195</td>\n",
       "      <td>0.035689</td>\n",
       "      <td>0.029788</td>\n",
       "      <td>0.539006</td>\n",
       "      <td>0.030095</td>\n",
       "    </tr>\n",
       "    <tr>\n",
       "      <th>Lag1</th>\n",
       "      <td>0.029700</td>\n",
       "      <td>1.000000</td>\n",
       "      <td>-0.026294</td>\n",
       "      <td>-0.010803</td>\n",
       "      <td>-0.002986</td>\n",
       "      <td>-0.005675</td>\n",
       "      <td>0.040910</td>\n",
       "      <td>-0.026155</td>\n",
       "    </tr>\n",
       "    <tr>\n",
       "      <th>Lag2</th>\n",
       "      <td>0.030596</td>\n",
       "      <td>-0.026294</td>\n",
       "      <td>1.000000</td>\n",
       "      <td>-0.025897</td>\n",
       "      <td>-0.010854</td>\n",
       "      <td>-0.003558</td>\n",
       "      <td>-0.043383</td>\n",
       "      <td>-0.010250</td>\n",
       "    </tr>\n",
       "    <tr>\n",
       "      <th>Lag3</th>\n",
       "      <td>0.033195</td>\n",
       "      <td>-0.010803</td>\n",
       "      <td>-0.025897</td>\n",
       "      <td>1.000000</td>\n",
       "      <td>-0.024051</td>\n",
       "      <td>-0.018808</td>\n",
       "      <td>-0.041824</td>\n",
       "      <td>-0.002448</td>\n",
       "    </tr>\n",
       "    <tr>\n",
       "      <th>Lag4</th>\n",
       "      <td>0.035689</td>\n",
       "      <td>-0.002986</td>\n",
       "      <td>-0.010854</td>\n",
       "      <td>-0.024051</td>\n",
       "      <td>1.000000</td>\n",
       "      <td>-0.027084</td>\n",
       "      <td>-0.048414</td>\n",
       "      <td>-0.006900</td>\n",
       "    </tr>\n",
       "    <tr>\n",
       "      <th>Lag5</th>\n",
       "      <td>0.029788</td>\n",
       "      <td>-0.005675</td>\n",
       "      <td>-0.003558</td>\n",
       "      <td>-0.018808</td>\n",
       "      <td>-0.027084</td>\n",
       "      <td>1.000000</td>\n",
       "      <td>-0.022002</td>\n",
       "      <td>-0.034860</td>\n",
       "    </tr>\n",
       "    <tr>\n",
       "      <th>Volume</th>\n",
       "      <td>0.539006</td>\n",
       "      <td>0.040910</td>\n",
       "      <td>-0.043383</td>\n",
       "      <td>-0.041824</td>\n",
       "      <td>-0.048414</td>\n",
       "      <td>-0.022002</td>\n",
       "      <td>1.000000</td>\n",
       "      <td>0.014592</td>\n",
       "    </tr>\n",
       "    <tr>\n",
       "      <th>Today</th>\n",
       "      <td>0.030095</td>\n",
       "      <td>-0.026155</td>\n",
       "      <td>-0.010250</td>\n",
       "      <td>-0.002448</td>\n",
       "      <td>-0.006900</td>\n",
       "      <td>-0.034860</td>\n",
       "      <td>0.014592</td>\n",
       "      <td>1.000000</td>\n",
       "    </tr>\n",
       "  </tbody>\n",
       "</table>\n",
       "</div>"
      ],
      "text/plain": [
       "            Year      Lag1      Lag2      Lag3      Lag4      Lag5    Volume  \\\n",
       "Year    1.000000  0.029700  0.030596  0.033195  0.035689  0.029788  0.539006   \n",
       "Lag1    0.029700  1.000000 -0.026294 -0.010803 -0.002986 -0.005675  0.040910   \n",
       "Lag2    0.030596 -0.026294  1.000000 -0.025897 -0.010854 -0.003558 -0.043383   \n",
       "Lag3    0.033195 -0.010803 -0.025897  1.000000 -0.024051 -0.018808 -0.041824   \n",
       "Lag4    0.035689 -0.002986 -0.010854 -0.024051  1.000000 -0.027084 -0.048414   \n",
       "Lag5    0.029788 -0.005675 -0.003558 -0.018808 -0.027084  1.000000 -0.022002   \n",
       "Volume  0.539006  0.040910 -0.043383 -0.041824 -0.048414 -0.022002  1.000000   \n",
       "Today   0.030095 -0.026155 -0.010250 -0.002448 -0.006900 -0.034860  0.014592   \n",
       "\n",
       "           Today  \n",
       "Year    0.030095  \n",
       "Lag1   -0.026155  \n",
       "Lag2   -0.010250  \n",
       "Lag3   -0.002448  \n",
       "Lag4   -0.006900  \n",
       "Lag5   -0.034860  \n",
       "Volume  0.014592  \n",
       "Today   1.000000  "
      ]
     },
     "execution_count": 12,
     "metadata": {},
     "output_type": "execute_result"
    }
   ],
   "source": [
    "# it makes sense to consider the correlations between different variables in the data\n",
    "Smarket.corr()"
   ]
  },
  {
   "cell_type": "markdown",
   "metadata": {},
   "source": [
    "### We see that the correlations between the percentage returns for the various recorded days in each entry have little (close to zero) correlation between one another. This is to be expected, i.e., today's returns depend little on the returns from the previous 5 days. However, there seems to be strong correlation between the 'Year' and 'Volume' variables. We should plot these two features against one another to understand this better."
   ]
  },
  {
   "cell_type": "code",
   "execution_count": 14,
   "metadata": {},
   "outputs": [
    {
     "data": {
      "image/png": "[encoded data removed]",
      "text/plain": [
       "<Figure size 640x480 with 1 Axes>"
      ]
     },
     "metadata": {},
     "output_type": "display_data"
    }
   ],
   "source": [
    "plt.plot(Smarket.iloc[:, 6])\n",
    "plt.ylabel(\"Volume (Billions of Shares)\")\n",
    "plt.xlabel(\"Time\")\n",
    "plt.show()"
   ]
  },
  {
   "cell_type": "markdown",
   "metadata": {},
   "source": [
    "### There seems to be an increase in the number of trades per day from 2001 to 2005."
   ]
  },
  {
   "cell_type": "markdown",
   "metadata": {},
   "source": [
    "## 2. Logistic Regression"
   ]
  },
  {
   "cell_type": "code",
   "execution_count": 19,
   "metadata": {},
   "outputs": [
    {
     "name": "stdout",
     "output_type": "stream",
     "text": [
      "      Direction[Down]  Direction[Up]\n",
      "0                 0.0            1.0\n",
      "1                 0.0            1.0\n",
      "2                 1.0            0.0\n",
      "3                 0.0            1.0\n",
      "4                 0.0            1.0\n",
      "...               ...            ...\n",
      "1245              0.0            1.0\n",
      "1246              1.0            0.0\n",
      "1247              0.0            1.0\n",
      "1248              1.0            0.0\n",
      "1249              1.0            0.0\n",
      "\n",
      "[1250 rows x 2 columns]\n"
     ]
    }
   ],
   "source": [
    "# we create design matrices for the formula we want to fit\n",
    "y, X = dmatrices('Direction~Lag1+Lag2+Lag3+Lag4+Lag5+Volume', Smarket, return_type='dataframe')\n",
    "print(y)"
   ]
  },
  {
   "cell_type": "code",
   "execution_count": 20,
   "metadata": {},
   "outputs": [
    {
     "name": "stdout",
     "output_type": "stream",
     "text": [
      "Optimization terminated successfully.\n",
      "         Current function value: 0.691034\n",
      "         Iterations 4\n",
      "                           Logit Regression Results                           \n",
      "==============================================================================\n",
      "Dep. Variable:          Direction[Up]   No. Observations:                 1250\n",
      "Model:                          Logit   Df Residuals:                     1243\n",
      "Method:                           MLE   Df Model:                            6\n",
      "Date:                Wed, 07 Sep 2022   Pseudo R-squ.:                0.002074\n",
      "Time:                        15:58:44   Log-Likelihood:                -863.79\n",
      "converged:                       True   LL-Null:                       -865.59\n",
      "Covariance Type:            nonrobust   LLR p-value:                    0.7319\n",
      "==============================================================================\n",
      "                 coef    std err          z      P>|z|      [0.025      0.975]\n",
      "------------------------------------------------------------------------------\n",
      "Intercept     -0.1260      0.241     -0.523      0.601      -0.598       0.346\n",
      "Lag1          -0.0731      0.050     -1.457      0.145      -0.171       0.025\n",
      "Lag2          -0.0423      0.050     -0.845      0.398      -0.140       0.056\n",
      "Lag3           0.0111      0.050      0.222      0.824      -0.087       0.109\n",
      "Lag4           0.0094      0.050      0.187      0.851      -0.089       0.107\n",
      "Lag5           0.0103      0.050      0.208      0.835      -0.087       0.107\n",
      "Volume         0.1354      0.158      0.855      0.392      -0.175       0.446\n",
      "==============================================================================\n"
     ]
    }
   ],
   "source": [
    "# We take the second column of the response matrix above, since we are more interested when the stock price will increase\n",
    "logit = sm.Logit(y.iloc[:, 1], X)\n",
    "fit = logit.fit()\n",
    "print(fit.summary())"
   ]
  },
  {
   "cell_type": "markdown",
   "metadata": {},
   "source": [
    "### We see that the $p$-values for the fit are quite large, with the lowest one being $\\sim 0.145$ for the 'Lag1' variable. This is still relatively large, meaning that there is likely little association between the percentage change in price yesterday, and whether the price will increase/decrease today."
   ]
  },
  {
   "cell_type": "code",
   "execution_count": 22,
   "metadata": {},
   "outputs": [
    {
     "name": "stdout",
     "output_type": "stream",
     "text": [
      "Intercept   -0.126000\n",
      "Lag1        -0.073074\n",
      "Lag2        -0.042301\n",
      "Lag3         0.011085\n",
      "Lag4         0.009359\n",
      "Lag5         0.010313\n",
      "Volume       0.135441\n",
      "dtype: float64\n"
     ]
    }
   ],
   "source": [
    "# we can also print just the fitted parameters\n",
    "print(fit.params)"
   ]
  },
  {
   "cell_type": "code",
   "execution_count": 23,
   "metadata": {},
   "outputs": [
    {
     "name": "stdout",
     "output_type": "stream",
     "text": [
      "[0.50708413 0.48146788 0.48113883 0.51522236 0.51078116 0.50695646\n",
      " 0.49265087 0.50922916 0.51761353 0.48883778]\n"
     ]
    }
   ],
   "source": [
    "# consider the predictions of our model on the first ten training inputs\n",
    "print(fit.predict()[:10])"
   ]
  },
  {
   "cell_type": "code",
   "execution_count": 36,
   "metadata": {},
   "outputs": [
    {
     "name": "stdout",
     "output_type": "stream",
     "text": [
      "Model predictions:\n",
      "   prediction label\n",
      "0               Up\n",
      "1             Down\n",
      "2             Down\n",
      "3               Up\n",
      "4               Up\n",
      "Data set values:\n",
      " 0      Up\n",
      "1      Up\n",
      "2    Down\n",
      "3      Up\n",
      "4      Up\n",
      "Name: Direction, dtype: object\n"
     ]
    }
   ],
   "source": [
    "# these are given as probabilities of the stock direction being Up\n",
    "# hence, we shall convert these to class labels, after choosing a suitable threshold\n",
    "threshold = 0.5\n",
    "predict_label = pd.DataFrame(np.zeros(shape=(Smarket.shape[0], 1)), columns=['prediction label'])\n",
    "predict_label.iloc[fit.predict() > threshold] = 'Up'\n",
    "predict_label.iloc[fit.predict() <= threshold] = 'Down'\n",
    "print(\"Model predictions:\\n\", predict_label.head())\n",
    "print(\"Data set values:\\n\", Smarket['Direction'][:5])"
   ]
  },
  {
   "cell_type": "markdown",
   "metadata": {},
   "source": [
    "### As we can see above, the model isn't very good, as is to be expected from the observed large $p$-values. To further evaluate the model, we construct a confusion matrix."
   ]
  },
  {
   "cell_type": "code",
   "execution_count": 44,
   "metadata": {},
   "outputs": [
    {
     "name": "stdout",
     "output_type": "stream",
     "text": [
      "True negatives (Down predicted as Down): 145\n",
      "False negatives (Down predicted as Up): 457\n",
      "True positives (Up predicted as Up): 507\n",
      "False positives (Up predicted as Down): 141\n",
      "\n",
      "The model predicted the correct movement of the market 52.16% of the time.\n"
     ]
    }
   ],
   "source": [
    "conf_matrix = confusion_matrix(Smarket['Direction'], predict_label.iloc[:, 0])\n",
    "print(\"True negatives (Down predicted as Down):\", conf_matrix[0, 0])\n",
    "print(\"False negatives (Down predicted as Up):\", conf_matrix[0, 1])\n",
    "print(\"True positives (Up predicted as Up):\", conf_matrix[1, 1])\n",
    "print(\"False positives (Up predicted as Down):\", conf_matrix[1, 0])\n",
    "print(\"\\nThe model predicted the correct movement of the market \" + str(conf_matrix.trace() / conf_matrix.sum() * 100) + \"% of the time.\")\n"
   ]
  },
  {
   "cell_type": "markdown",
   "metadata": {},
   "source": [
    "### It seems that the logistic regression model is slightly better than random guessing. However, this is misleading since we have both trained and evaulated the model on the same data sets. A better approach is to split the overall data set into training and validation subsets. Specifically, we will train the model on data from before 2005, and assess its predictive power on the data from 2005."
   ]
  },
  {
   "cell_type": "code",
   "execution_count": 45,
   "metadata": {},
   "outputs": [],
   "source": [
    "Smarket_2005 = Smarket.query('Year >= 2005')\n",
    "Smarket_train = Smarket.query('Year < 2005')"
   ]
  },
  {
   "cell_type": "code",
   "execution_count": 46,
   "metadata": {},
   "outputs": [],
   "source": [
    "y_train, X_train = dmatrices('Direction~Lag1+Lag2+Lag3+Lag4+Lag5+Volume', Smarket_train, return_type='dataframe')\n",
    "y_test, X_test = dmatrices('Direction~Lag1+Lag2+Lag3+Lag4+Lag5+Volume', Smarket_2005, return_type='dataframe')"
   ]
  },
  {
   "cell_type": "code",
   "execution_count": 47,
   "metadata": {},
   "outputs": [
    {
     "name": "stdout",
     "output_type": "stream",
     "text": [
      "Optimization terminated successfully.\n",
      "         Current function value: 0.691936\n",
      "         Iterations 4\n",
      "                           Logit Regression Results                           \n",
      "==============================================================================\n",
      "Dep. Variable:          Direction[Up]   No. Observations:                  998\n",
      "Model:                          Logit   Df Residuals:                      991\n",
      "Method:                           MLE   Df Model:                            6\n",
      "Date:                Wed, 07 Sep 2022   Pseudo R-squ.:                0.001562\n",
      "Time:                        16:30:06   Log-Likelihood:                -690.55\n",
      "converged:                       True   LL-Null:                       -691.63\n",
      "Covariance Type:            nonrobust   LLR p-value:                    0.9044\n",
      "==============================================================================\n",
      "                 coef    std err          z      P>|z|      [0.025      0.975]\n",
      "------------------------------------------------------------------------------\n",
      "Intercept      0.1912      0.334      0.573      0.567      -0.463       0.845\n",
      "Lag1          -0.0542      0.052     -1.046      0.295      -0.156       0.047\n",
      "Lag2          -0.0458      0.052     -0.884      0.377      -0.147       0.056\n",
      "Lag3           0.0072      0.052      0.139      0.889      -0.094       0.108\n",
      "Lag4           0.0064      0.052      0.125      0.901      -0.095       0.108\n",
      "Lag5          -0.0042      0.051     -0.083      0.934      -0.104       0.096\n",
      "Volume        -0.1163      0.240     -0.485      0.628      -0.586       0.353\n",
      "==============================================================================\n"
     ]
    }
   ],
   "source": [
    "# fit the logistic model\n",
    "logit = sm.Logit(y_train.iloc[:, 1], X_train)\n",
    "fit = logit.fit()\n",
    "print(fit.summary())"
   ]
  },
  {
   "cell_type": "code",
   "execution_count": 50,
   "metadata": {},
   "outputs": [
    {
     "name": "stdout",
     "output_type": "stream",
     "text": [
      "True negatives (Down predicted as Down): 77\n",
      "False negatives (Down predicted as Up): 34\n",
      "True positives (Up predicted as Up): 44\n",
      "False positives (Up predicted as Down): 97\n",
      "\n",
      "The model predicted the correct movement of the market 48.01587301587302% of the time.\n"
     ]
    }
   ],
   "source": [
    "# test the model on 2005 data\n",
    "predictions = fit.predict(X_test)\n",
    "prediction_labels = pd.DataFrame(np.zeros(shape = (Smarket_2005.shape[0], 1)), columns=['prediction label'])\n",
    "threshold = 0.5\n",
    "prediction_labels.iloc[predictions > threshold] = 'Up'\n",
    "prediction_labels.iloc[predictions <= threshold] = 'Down'\n",
    "conf_matrix = confusion_matrix(Smarket_2005['Direction'], prediction_labels.iloc[:, 0])\n",
    "print(\"True negatives (Down predicted as Down):\", conf_matrix[0, 0])\n",
    "print(\"False negatives (Down predicted as Up):\", conf_matrix[0, 1])\n",
    "print(\"True positives (Up predicted as Up):\", conf_matrix[1, 1])\n",
    "print(\"False positives (Up predicted as Down):\", conf_matrix[1, 0])\n",
    "print(\"\\nThe model predicted the correct movement of the market \" + str(conf_matrix.trace() / conf_matrix.sum() * 100) + \"% of the time.\")"
   ]
  },
  {
   "cell_type": "markdown",
   "metadata": {},
   "source": [
    "### We in fact see that the predictive power of the logistic regression model is worse than simply random guessing. This was to be expected from the large $p$-values we observed. However, the quality of the model may have also been influenced by the addition of variables with low predictive power, i.e., those with very large $p$-values, causing overfitting. Hence, we consider a model with just the two variables with lowest $p$-values, i.e., 'Lag1' and 'Lag2'."
   ]
  },
  {
   "cell_type": "code",
   "execution_count": 51,
   "metadata": {},
   "outputs": [
    {
     "name": "stdout",
     "output_type": "stream",
     "text": [
      "Optimization terminated successfully.\n",
      "         Current function value: 0.692085\n",
      "         Iterations 3\n",
      "                           Logit Regression Results                           \n",
      "==============================================================================\n",
      "Dep. Variable:          Direction[Up]   No. Observations:                  998\n",
      "Model:                          Logit   Df Residuals:                      995\n",
      "Method:                           MLE   Df Model:                            2\n",
      "Date:                Wed, 07 Sep 2022   Pseudo R-squ.:                0.001347\n",
      "Time:                        16:40:34   Log-Likelihood:                -690.70\n",
      "converged:                       True   LL-Null:                       -691.63\n",
      "Covariance Type:            nonrobust   LLR p-value:                    0.3939\n",
      "==============================================================================\n",
      "                 coef    std err          z      P>|z|      [0.025      0.975]\n",
      "------------------------------------------------------------------------------\n",
      "Intercept      0.0322      0.063      0.508      0.611      -0.092       0.156\n",
      "Lag1          -0.0556      0.052     -1.076      0.282      -0.157       0.046\n",
      "Lag2          -0.0445      0.052     -0.861      0.389      -0.146       0.057\n",
      "==============================================================================\n"
     ]
    }
   ],
   "source": [
    "y_train, X_train = dmatrices('Direction~Lag1+Lag2', Smarket_train, return_type='dataframe')\n",
    "y_test, X_test = dmatrices('Direction~Lag1+Lag2', Smarket_2005, return_type='dataframe')\n",
    "\n",
    "# fit the logistic model\n",
    "logit = sm.Logit(y_train.iloc[:, 1], X_train)\n",
    "fit = logit.fit()\n",
    "print(fit.summary())"
   ]
  },
  {
   "cell_type": "code",
   "execution_count": 55,
   "metadata": {},
   "outputs": [
    {
     "name": "stdout",
     "output_type": "stream",
     "text": [
      "True negatives (Down predicted as Down): 35\n",
      "False negatives (Down predicted as Up): 76\n",
      "True positives (Up predicted as Up): 106\n",
      "False positives (Up predicted as Down): 35\n",
      "\n",
      "The model predicted the correct movement of the market 55.952380952380956% of the time.\n",
      "\n",
      "The model predicts the market will be Up with a 58.24175824175825% success rate.\n"
     ]
    }
   ],
   "source": [
    "# test the model on 2005 data\n",
    "predictions = fit.predict(X_test)\n",
    "prediction_labels = pd.DataFrame(np.zeros(shape = (Smarket_2005.shape[0], 1)), columns=['prediction label'])\n",
    "threshold = 0.5\n",
    "prediction_labels.iloc[predictions > threshold] = 'Up'\n",
    "prediction_labels.iloc[predictions <= threshold] = 'Down'\n",
    "conf_matrix = confusion_matrix(Smarket_2005['Direction'], prediction_labels.iloc[:, 0])\n",
    "print(\"True negatives (Down predicted as Down):\", conf_matrix[0, 0])\n",
    "print(\"False negatives (Down predicted as Up):\", conf_matrix[0, 1])\n",
    "print(\"True positives (Up predicted as Up):\", conf_matrix[1, 1])\n",
    "print(\"False positives (Up predicted as Down):\", conf_matrix[1, 0])\n",
    "print(\"\\nThe model predicted the correct movement of the market \" + str(conf_matrix.trace() / conf_matrix.sum() * 100) + \"% of the time.\")\n",
    "print(\"\\nThe model predicts the market will be Up with a \" + str(conf_matrix[1, 1] / (conf_matrix[:, 1].sum()) * 100) + \"% success rate.\")"
   ]
  },
  {
   "cell_type": "markdown",
   "metadata": {},
   "source": [
    "### The reduction of the number of variables used in the logistic regression model has indeed led to an improvement in the predictive power. However, it is still not much better than random guessing, or, in fact, simply assuming the market will be Up every day. Nonetheless, note that on days when the market was indeed Up, the model has predicted this correctly about $\\sim 58\\%$ of the time. So, a trading strategy which implements the model might be to only buy when the prediction is that the market will be Up."
   ]
  },
  {
   "cell_type": "markdown",
   "metadata": {},
   "source": [
    "## 3. Linear Discriminant Analysis"
   ]
  },
  {
   "cell_type": "code",
   "execution_count": 59,
   "metadata": {},
   "outputs": [],
   "source": [
    "sklearn_lda = LDA(n_components=1) # LDA object\n",
    "lda = sklearn_lda.fit(X_train.iloc[:, 1:3], y_train.iloc[:, 1]) # fitting the model"
   ]
  },
  {
   "cell_type": "code",
   "execution_count": 67,
   "metadata": {},
   "outputs": [
    {
     "name": "stdout",
     "output_type": "stream",
     "text": [
      "Predicted labels:\n",
      " [1. 1. 1. 1. 1.]\n",
      "Predicted probabilities:\n",
      " [[0.49017925 0.50982075]\n",
      " [0.4792185  0.5207815 ]\n",
      " [0.46681848 0.53318152]\n",
      " [0.47400107 0.52599893]\n",
      " [0.49278766 0.50721234]]\n"
     ]
    }
   ],
   "source": [
    "# test the model on the 2005 data\n",
    "X_test_labels = lda.predict(X_test.iloc[:, 1:3])\n",
    "print(\"Predicted labels:\\n\", X_test_labels[:5])\n",
    "X_test_prob = lda.predict_proba(X_test.iloc[:, 1:3]) # probabilities of each test sample corresponding to each class\n",
    "print(\"Predicted probabilities:\\n\", X_test_prob[:5, :])"
   ]
  },
  {
   "cell_type": "code",
   "execution_count": 70,
   "metadata": {},
   "outputs": [
    {
     "name": "stdout",
     "output_type": "stream",
     "text": [
      "LDA model accuracy: 55.952380952380956 %\n"
     ]
    }
   ],
   "source": [
    "# determine the accuracy of the LDA model\n",
    "print(\"LDA model accuracy:\", np.mean(y_test.iloc[:, 1] == X_test_labels) * 100, \"%\")"
   ]
  },
  {
   "cell_type": "markdown",
   "metadata": {},
   "source": [
    "### Note that this is the same as the accuracy for the logisitic regression, which makes sense, as both are linear models."
   ]
  },
  {
   "cell_type": "code",
   "execution_count": 86,
   "metadata": {},
   "outputs": [
    {
     "data": {
      "image/png": "[encoded data removed]",
      "text/plain": [
       "<Figure size 640x480 with 1 Axes>"
      ]
     },
     "metadata": {},
     "output_type": "display_data"
    }
   ],
   "source": [
    "# we can try to find a threshold which maximises the accuracy of the model on the test data\n",
    "thresholds = np.linspace(0.4, 0.6, num=100)\n",
    "accuracies = []\n",
    "for threshold in thresholds:\n",
    "    accuracies.append(np.mean(y_test.iloc[:, 1] == (X_test_prob[:, 1] >= threshold)))\n",
    "threshold_max_accuracy = thresholds[np.argmax(accuracies)]\n",
    "plt.plot(thresholds, accuracies)\n",
    "plt.plot(thresholds, [np.max(accuracies)] * len(thresholds), linestyle = 'dashed', color = 'black')\n",
    "plt.text(thresholds[0], np.max(accuracies) - 0.01, str(round(np.max(accuracies), 4) * 100) + \"%, threshold = \" + str(round(threshold_max_accuracy, 4)))\n",
    "plt.xlabel(\"Threshold for Up classification\")\n",
    "plt.ylabel(\"LDA model accuracy on 2005 data\")\n",
    "plt.show()"
   ]
  },
  {
   "cell_type": "markdown",
   "metadata": {},
   "source": [
    "### There seems to be a slight benefit of using a threshold smaller than 0.5, but the improvement in accuracy is miniscule."
   ]
  },
  {
   "cell_type": "markdown",
   "metadata": {},
   "source": [
    "## 4. Quadratic Determinant Analysis"
   ]
  },
  {
   "cell_type": "code",
   "execution_count": 94,
   "metadata": {},
   "outputs": [
    {
     "name": "stdout",
     "output_type": "stream",
     "text": [
      "Predicted labels:\n",
      " [1. 1. 1. 1. 1.]\n",
      "Predicted probabilities:\n",
      " [[0.48732434 0.51267566]\n",
      " [0.47590106 0.52409894]\n",
      " [0.46369106 0.53630894]\n",
      " [0.4739253  0.5260747 ]\n",
      " [0.49034262 0.50965738]]\n",
      "QDA model accuracy: 59.92063492063492 %\n"
     ]
    }
   ],
   "source": [
    "sklearn_qda = QDA(priors=None, store_covariance=True) # QDA object\n",
    "qda = sklearn_qda.fit(X_train.iloc[:, 1:3], y_train.iloc[:, 1]) # fitting the model\n",
    "\n",
    "# test the model on the 2005 data\n",
    "X_test_labels = qda.predict(X_test.iloc[:, 1:3])\n",
    "print(\"Predicted labels:\\n\", X_test_labels[:5])\n",
    "X_test_prob = qda.predict_proba(X_test.iloc[:, 1:3]) # probabilities of each test sample corresponding to each class\n",
    "print(\"Predicted probabilities:\\n\", X_test_prob[:5, :])\n",
    "\n",
    "# determine the accuracy of the QDA model\n",
    "print(\"QDA model accuracy:\", np.mean(y_test.iloc[:, 1] == X_test_labels) * 100, \"%\")"
   ]
  },
  {
   "cell_type": "markdown",
   "metadata": {},
   "source": [
    "### The QDA model seems to be better than the LDA one, suggesting that a quadratic relationship in the data is a better assumption than the linear ones used by LDA and logistic regression. We can also perform a similar test for the optimal threshold, as we did for LDA."
   ]
  },
  {
   "cell_type": "code",
   "execution_count": 95,
   "metadata": {},
   "outputs": [
    {
     "data": {
      "image/png": "[encoded data removed]",
      "text/plain": [
       "<Figure size 640x480 with 1 Axes>"
      ]
     },
     "metadata": {},
     "output_type": "display_data"
    }
   ],
   "source": [
    "# we can try to find a threshold which maximises the accuracy of the model on the test data\n",
    "thresholds = np.linspace(0.4, 0.6, num=100)\n",
    "accuracies = []\n",
    "for threshold in thresholds:\n",
    "    accuracies.append(np.mean(y_test.iloc[:, 1] == (X_test_prob[:, 1] >= threshold)))\n",
    "threshold_max_accuracy = thresholds[np.argmax(accuracies)]\n",
    "plt.plot(thresholds, accuracies)\n",
    "plt.plot(thresholds, [np.max(accuracies)] * len(thresholds), linestyle = 'dashed', color = 'black')\n",
    "plt.text(thresholds[0], np.max(accuracies) - 0.01, str(round(np.max(accuracies), 4) * 100) + \"%, threshold = \" + str(round(threshold_max_accuracy, 4)))\n",
    "plt.xlabel(\"Threshold for Up classification\")\n",
    "plt.ylabel(\"QDA model accuracy on 2005 data\")\n",
    "plt.show()"
   ]
  },
  {
   "cell_type": "markdown",
   "metadata": {},
   "source": [
    "### For the QDA it seems that the best model is obtained using the default probability threshold of $0.5$."
   ]
  },
  {
   "cell_type": "markdown",
   "metadata": {},
   "source": [
    "## 5. Naive Bayes\n",
    "### We now try fitting a naive Bayes model to the training data set."
   ]
  },
  {
   "cell_type": "code",
   "execution_count": 96,
   "metadata": {},
   "outputs": [
    {
     "name": "stdout",
     "output_type": "stream",
     "text": [
      "Naive Bayes model accuracy: 59.523809523809526 %\n"
     ]
    }
   ],
   "source": [
    "NB_class = NB() # naive Bayes object\n",
    "NB_class.fit(X_train.iloc[:, 1:3], y_train.iloc[:, 1])\n",
    "\n",
    "X_test_labels = NB_class.predict(X_test.iloc[:, 1:3])\n",
    "X_test_prob = NB_class.predict_proba(X_test.iloc[:, 1:3])\n",
    "\n",
    "# determine the accuracy of the QDA model\n",
    "print(\"Naive Bayes model accuracy:\", np.mean(y_test.iloc[:, 1] == X_test_labels) * 100, \"%\")"
   ]
  },
  {
   "cell_type": "code",
   "execution_count": 99,
   "metadata": {},
   "outputs": [
    {
     "data": {
      "image/png": "[encoded data removed]",
      "text/plain": [
       "<Figure size 640x480 with 1 Axes>"
      ]
     },
     "metadata": {},
     "output_type": "display_data"
    }
   ],
   "source": [
    "# we can try to find a threshold which maximises the accuracy of the model on the test data\n",
    "thresholds = np.linspace(0.4, 0.6, num=100)\n",
    "accuracies = []\n",
    "for threshold in thresholds:\n",
    "    accuracies.append(np.mean(y_test.iloc[:, 1] == (X_test_prob[:, 1] >= threshold)))\n",
    "threshold_max_accuracy = thresholds[np.argmax(accuracies)]\n",
    "plt.plot(thresholds, accuracies)\n",
    "plt.plot(thresholds, [np.max(accuracies)] * len(thresholds), linestyle = 'dashed', color = 'black')\n",
    "plt.text(thresholds[0], np.max(accuracies) - 0.01, str(round(np.max(accuracies), 5) * 100) + \"%, threshold = \" + str(round(threshold_max_accuracy, 4)))\n",
    "plt.xlabel(\"Threshold for Up classification\")\n",
    "plt.ylabel(\"Naive Bayes model accuracy on 2005 data\")\n",
    "plt.show()"
   ]
  },
  {
   "cell_type": "markdown",
   "metadata": {},
   "source": [
    "### The naive Bayes is just slightly worse than the QDA, but much better than the LDA."
   ]
  },
  {
   "cell_type": "markdown",
   "metadata": {},
   "source": [
    "## 6. K-Nearest Neighbours\n",
    "### We consider fitting a K-nearest neighbours model to the data. We start with $K=1$, which will likely lead to an overfitted model, and then increase $K$ to find the optimal value."
   ]
  },
  {
   "cell_type": "code",
   "execution_count": 115,
   "metadata": {},
   "outputs": [
    {
     "name": "stdout",
     "output_type": "stream",
     "text": [
      "K-nearest neighbours (K = 3) model accuracy: 53.17460317460318 %\n"
     ]
    }
   ],
   "source": [
    "no_neighbours = 3\n",
    "neigh = KNN(n_neighbors=no_neighbours) # KNN object\n",
    "KNN_fit = neigh.fit(X_train.iloc[:,1:3], y_train.iloc[:,1])\n",
    "\n",
    "X_test_labels=KNN_fit.predict(X_test.iloc[:,1:3])\n",
    "X_test_prob = KNN_fit.predict_proba(X_test.iloc[:,1:3]) \n",
    "\n",
    "print(\"K-nearest neighbours (K = \" + str(no_neighbours) + \") model accuracy:\", np.mean(y_test.iloc[:, 1] == X_test_labels) * 100, \"%\")"
   ]
  },
  {
   "cell_type": "code",
   "execution_count": 114,
   "metadata": {},
   "outputs": [
    {
     "data": {
      "text/plain": [
       "<function matplotlib.pyplot.show(close=None, block=None)>"
      ]
     },
     "execution_count": 114,
     "metadata": {},
     "output_type": "execute_result"
    },
    {
     "data": {
      "image/png": "[encoded data removed]",
      "text/plain": [
       "<Figure size 640x480 with 1 Axes>"
      ]
     },
     "metadata": {},
     "output_type": "display_data"
    }
   ],
   "source": [
    "# find the optimal number of neighbours\n",
    "K_values = np.arange(1, 10, 1, dtype=int)\n",
    "accuracies = []\n",
    "for K in K_values:\n",
    "\n",
    "    neigh = KNN(n_neighbors=K) # KNN object\n",
    "    KNN_fit = neigh.fit(X_train.iloc[:,1:3], y_train.iloc[:,1])\n",
    "\n",
    "    X_test_labels=KNN_fit.predict(X_test.iloc[:,1:3])\n",
    "    X_test_prob = KNN_fit.predict_proba(X_test.iloc[:,1:3]) \n",
    "\n",
    "    accuracies.append(np.mean(y_test.iloc[:, 1] == X_test_labels) * 100)\n",
    "\n",
    "plt.plot(K_values, accuracies)\n",
    "plt.xlabel(\"Number of neighbours K\")\n",
    "plt.ylabel(\"Model Accuracy (%)\")\n",
    "plt.show"
   ]
  },
  {
   "cell_type": "markdown",
   "metadata": {},
   "source": [
    "### It seems like the best model is for $K=3$ neighbours, achieving an accuracy of $\\sim 53\\%$. This is still worse than the QDA, which seems to be the best model for this problem. Nonetheless, the $K$-nearest neighbours algorithm may still yield very good results in some cases. For example, let's now consider the Caravan data set."
   ]
  },
  {
   "cell_type": "code",
   "execution_count": 116,
   "metadata": {},
   "outputs": [
    {
     "data": {
      "text/html": [
       "<div>\n",
       "<style scoped>\n",
       "    .dataframe tbody tr th:only-of-type {\n",
       "        vertical-align: middle;\n",
       "    }\n",
       "\n",
       "    .dataframe tbody tr th {\n",
       "        vertical-align: top;\n",
       "    }\n",
       "\n",
       "    .dataframe thead th {\n",
       "        text-align: right;\n",
       "    }\n",
       "</style>\n",
       "<table border=\"1\" class=\"dataframe\">\n",
       "  <thead>\n",
       "    <tr style=\"text-align: right;\">\n",
       "      <th></th>\n",
       "      <th>MOSTYPE</th>\n",
       "      <th>MAANTHUI</th>\n",
       "      <th>MGEMOMV</th>\n",
       "      <th>MGEMLEEF</th>\n",
       "      <th>MOSHOOFD</th>\n",
       "      <th>MGODRK</th>\n",
       "      <th>MGODPR</th>\n",
       "      <th>MGODOV</th>\n",
       "      <th>MGODGE</th>\n",
       "      <th>MRELGE</th>\n",
       "      <th>...</th>\n",
       "      <th>APERSONG</th>\n",
       "      <th>AGEZONG</th>\n",
       "      <th>AWAOREG</th>\n",
       "      <th>ABRAND</th>\n",
       "      <th>AZEILPL</th>\n",
       "      <th>APLEZIER</th>\n",
       "      <th>AFIETS</th>\n",
       "      <th>AINBOED</th>\n",
       "      <th>ABYSTAND</th>\n",
       "      <th>Purchase</th>\n",
       "    </tr>\n",
       "  </thead>\n",
       "  <tbody>\n",
       "    <tr>\n",
       "      <th>0</th>\n",
       "      <td>33</td>\n",
       "      <td>1</td>\n",
       "      <td>3</td>\n",
       "      <td>2</td>\n",
       "      <td>8</td>\n",
       "      <td>0</td>\n",
       "      <td>5</td>\n",
       "      <td>1</td>\n",
       "      <td>3</td>\n",
       "      <td>7</td>\n",
       "      <td>...</td>\n",
       "      <td>0</td>\n",
       "      <td>0</td>\n",
       "      <td>0</td>\n",
       "      <td>1</td>\n",
       "      <td>0</td>\n",
       "      <td>0</td>\n",
       "      <td>0</td>\n",
       "      <td>0</td>\n",
       "      <td>0</td>\n",
       "      <td>No</td>\n",
       "    </tr>\n",
       "    <tr>\n",
       "      <th>1</th>\n",
       "      <td>37</td>\n",
       "      <td>1</td>\n",
       "      <td>2</td>\n",
       "      <td>2</td>\n",
       "      <td>8</td>\n",
       "      <td>1</td>\n",
       "      <td>4</td>\n",
       "      <td>1</td>\n",
       "      <td>4</td>\n",
       "      <td>6</td>\n",
       "      <td>...</td>\n",
       "      <td>0</td>\n",
       "      <td>0</td>\n",
       "      <td>0</td>\n",
       "      <td>1</td>\n",
       "      <td>0</td>\n",
       "      <td>0</td>\n",
       "      <td>0</td>\n",
       "      <td>0</td>\n",
       "      <td>0</td>\n",
       "      <td>No</td>\n",
       "    </tr>\n",
       "    <tr>\n",
       "      <th>2</th>\n",
       "      <td>37</td>\n",
       "      <td>1</td>\n",
       "      <td>2</td>\n",
       "      <td>2</td>\n",
       "      <td>8</td>\n",
       "      <td>0</td>\n",
       "      <td>4</td>\n",
       "      <td>2</td>\n",
       "      <td>4</td>\n",
       "      <td>3</td>\n",
       "      <td>...</td>\n",
       "      <td>0</td>\n",
       "      <td>0</td>\n",
       "      <td>0</td>\n",
       "      <td>1</td>\n",
       "      <td>0</td>\n",
       "      <td>0</td>\n",
       "      <td>0</td>\n",
       "      <td>0</td>\n",
       "      <td>0</td>\n",
       "      <td>No</td>\n",
       "    </tr>\n",
       "    <tr>\n",
       "      <th>3</th>\n",
       "      <td>9</td>\n",
       "      <td>1</td>\n",
       "      <td>3</td>\n",
       "      <td>3</td>\n",
       "      <td>3</td>\n",
       "      <td>2</td>\n",
       "      <td>3</td>\n",
       "      <td>2</td>\n",
       "      <td>4</td>\n",
       "      <td>5</td>\n",
       "      <td>...</td>\n",
       "      <td>0</td>\n",
       "      <td>0</td>\n",
       "      <td>0</td>\n",
       "      <td>1</td>\n",
       "      <td>0</td>\n",
       "      <td>0</td>\n",
       "      <td>0</td>\n",
       "      <td>0</td>\n",
       "      <td>0</td>\n",
       "      <td>No</td>\n",
       "    </tr>\n",
       "    <tr>\n",
       "      <th>4</th>\n",
       "      <td>40</td>\n",
       "      <td>1</td>\n",
       "      <td>4</td>\n",
       "      <td>2</td>\n",
       "      <td>10</td>\n",
       "      <td>1</td>\n",
       "      <td>4</td>\n",
       "      <td>1</td>\n",
       "      <td>4</td>\n",
       "      <td>7</td>\n",
       "      <td>...</td>\n",
       "      <td>0</td>\n",
       "      <td>0</td>\n",
       "      <td>0</td>\n",
       "      <td>1</td>\n",
       "      <td>0</td>\n",
       "      <td>0</td>\n",
       "      <td>0</td>\n",
       "      <td>0</td>\n",
       "      <td>0</td>\n",
       "      <td>No</td>\n",
       "    </tr>\n",
       "  </tbody>\n",
       "</table>\n",
       "<p>5 rows × 86 columns</p>\n",
       "</div>"
      ],
      "text/plain": [
       "   MOSTYPE  MAANTHUI  MGEMOMV  MGEMLEEF  MOSHOOFD  MGODRK  MGODPR  MGODOV  \\\n",
       "0       33         1        3         2         8       0       5       1   \n",
       "1       37         1        2         2         8       1       4       1   \n",
       "2       37         1        2         2         8       0       4       2   \n",
       "3        9         1        3         3         3       2       3       2   \n",
       "4       40         1        4         2        10       1       4       1   \n",
       "\n",
       "   MGODGE  MRELGE  ...  APERSONG  AGEZONG  AWAOREG  ABRAND  AZEILPL  APLEZIER  \\\n",
       "0       3       7  ...         0        0        0       1        0         0   \n",
       "1       4       6  ...         0        0        0       1        0         0   \n",
       "2       4       3  ...         0        0        0       1        0         0   \n",
       "3       4       5  ...         0        0        0       1        0         0   \n",
       "4       4       7  ...         0        0        0       1        0         0   \n",
       "\n",
       "   AFIETS  AINBOED  ABYSTAND  Purchase  \n",
       "0       0        0         0        No  \n",
       "1       0        0         0        No  \n",
       "2       0        0         0        No  \n",
       "3       0        0         0        No  \n",
       "4       0        0         0        No  \n",
       "\n",
       "[5 rows x 86 columns]"
      ]
     },
     "execution_count": 116,
     "metadata": {},
     "output_type": "execute_result"
    }
   ],
   "source": [
    "Caravan = pd.read_csv(\"Caravan.csv\", header=0)\n",
    "Caravan.head()"
   ]
  },
  {
   "cell_type": "code",
   "execution_count": 118,
   "metadata": {},
   "outputs": [
    {
     "name": "stdout",
     "output_type": "stream",
     "text": [
      "(5822, 86)\n"
     ]
    }
   ],
   "source": [
    "print(Caravan.shape)"
   ]
  },
  {
   "cell_type": "markdown",
   "metadata": {},
   "source": [
    "### The Caravan data set consists of $5822$ entries, each one including $85$ predictors measuring demographic characteristics of individuals, and a response variable 'Purchase', indicating whether a caravan insurance policy has been purchased by the individual.\n",
    "### Before we fit a $K$-nearest neighbours model to this data, we should standartise the predictors, since unstandartised data may have biased effects on the distance measurements performed by these types of models."
   ]
  },
  {
   "cell_type": "code",
   "execution_count": 121,
   "metadata": {},
   "outputs": [
    {
     "name": "stdout",
     "output_type": "stream",
     "text": [
      "(5822, 85)\n"
     ]
    }
   ],
   "source": [
    "y_data = pd.DataFrame(np.zeros(shape=(Caravan.shape[0],1)), columns = ['label'])\n",
    "y_data[Caravan['Purchase'] == 'Yes'] = 1\n",
    "Caravan_predictors = Caravan.drop(labels='Purchase', axis=1)\n",
    "print(Caravan_predictors.shape)"
   ]
  },
  {
   "cell_type": "code",
   "execution_count": 122,
   "metadata": {},
   "outputs": [],
   "source": [
    "testing_data_size = 1000 # set size of test data set\n",
    "X_test = Caravan_predictors.iloc[:testing_data_size]\n",
    "Y_test = y_data.iloc[:testing_data_size]\n",
    "X_train = Caravan_predictors.iloc[testing_data_size:]\n",
    "Y_train = y_data.iloc[testing_data_size:]\n",
    "\n",
    "X_train_scaled = preprocessing.scale(X_train) # scale the training data\n",
    "scaler = preprocessing.StandardScaler().fit(X_train) # find the scaling used for the training data\n",
    "X_test_scaled = scaler.transform(X_test) # apply the same scaling to the test data set"
   ]
  },
  {
   "cell_type": "code",
   "execution_count": 126,
   "metadata": {},
   "outputs": [
    {
     "name": "stdout",
     "output_type": "stream",
     "text": [
      "Error rate for K-nearest neighbours with K = 1 is 11.700000000000001%.\n"
     ]
    }
   ],
   "source": [
    "# train the K-nearest neighbours model\n",
    "no_neighbours = 1\n",
    "neigh = KNN(n_neighbors= no_neighbours)\n",
    "KNN_fit = neigh.fit(X_train_scaled, Y_train.iloc[:,0])\n",
    "\n",
    "X_test_labels = KNN_fit.predict(X_test_scaled)\n",
    "X_test_prob = KNN_fit.predict_proba(X_test_scaled) \n",
    "\n",
    "print(\"Error rate for K-nearest neighbours with K = \" + str(no_neighbours) + \" is \" + str(np.mean(Y_test.iloc[:,0]!=X_test_labels) * 100) + \"%.\")"
   ]
  },
  {
   "cell_type": "markdown",
   "metadata": {},
   "source": [
    "### This might seem like a low error rate, but note that we can achieve a lower error rate by always guessing that individuals will opt out of the caravan insurance policy."
   ]
  },
  {
   "cell_type": "code",
   "execution_count": 128,
   "metadata": {},
   "outputs": [
    {
     "name": "stdout",
     "output_type": "stream",
     "text": [
      "Error rate if we always predict 'No' irrespective of the predictor values:\n",
      "5.8999999999999995 %\n"
     ]
    }
   ],
   "source": [
    "print(\"Error rate if we always predict 'No' irrespective of the predictor values:\")\n",
    "print(np.mean(Y_test.iloc[:,0]!=0) * 100, \"%\")"
   ]
  },
  {
   "cell_type": "markdown",
   "metadata": {},
   "source": [
    "### However, we can view the problem from another angle. Suppose that there is some inherent cost when trying to sell insurance to a given individual, i.e., setting up a meeting, etc. If these were set at random, then the success rate would be $\\sim 6\\%$, as seen above, which is quite low. A good statistic for this type of problem would be to see what fraction of the individuals which are predicted to purchase the insurance, actually do so, i.e., the model's precision."
   ]
  },
  {
   "cell_type": "code",
   "execution_count": 134,
   "metadata": {},
   "outputs": [
    {
     "name": "stdout",
     "output_type": "stream",
     "text": [
      "The precision for the K-nearest neighbours model with K = 1 is:\n",
      "11.842105263157894 %\n"
     ]
    }
   ],
   "source": [
    "print(\"The precision for the K-nearest neighbours model with K = \" + str(no_neighbours) + \" is:\")\n",
    "purchase_predictions = np.sum(X_test_labels)\n",
    "true_purchases = 0\n",
    "for index, prediction in enumerate(X_test_labels):\n",
    "    if prediction == 1 and Y_test.iloc[index, 0] == 1:\n",
    "        true_purchases += 1\n",
    "print(true_purchases / purchase_predictions * 100, \"%\")"
   ]
  },
  {
   "cell_type": "markdown",
   "metadata": {},
   "source": [
    "### This is clearly much better than random selection, and it gets better for larger K values."
   ]
  },
  {
   "cell_type": "code",
   "execution_count": 137,
   "metadata": {},
   "outputs": [
    {
     "name": "stdout",
     "output_type": "stream",
     "text": [
      "The precision for the K-nearest neighbours model with K = 1 is:\n",
      "11.842105263157894 %,\n",
      "which includes 76.0 total predictions of insurance purchasing.\n",
      "\n",
      "The precision for the K-nearest neighbours model with K = 2 is:\n",
      "0.0 %,\n",
      "which includes 9.0 total predictions of insurance purchasing.\n",
      "\n",
      "The precision for the K-nearest neighbours model with K = 3 is:\n",
      "22.22222222222222 %,\n",
      "which includes 27.0 total predictions of insurance purchasing.\n",
      "\n",
      "The precision for the K-nearest neighbours model with K = 4 is:\n",
      "14.285714285714285 %,\n",
      "which includes 7.0 total predictions of insurance purchasing.\n",
      "\n",
      "The precision for the K-nearest neighbours model with K = 5 is:\n",
      "23.076923076923077 %,\n",
      "which includes 13.0 total predictions of insurance purchasing.\n",
      "\n",
      "The precision for the K-nearest neighbours model with K = 6 is:\n",
      "33.33333333333333 %,\n",
      "which includes 3.0 total predictions of insurance purchasing.\n",
      "\n"
     ]
    }
   ],
   "source": [
    "K_values = np.arange(1, 7, 1, dtype=int)\n",
    "for K in K_values:\n",
    "\n",
    "    neigh = KNN(n_neighbors= K)\n",
    "    KNN_fit = neigh.fit(X_train_scaled, Y_train.iloc[:,0])\n",
    "\n",
    "    X_test_labels = KNN_fit.predict(X_test_scaled)\n",
    "    X_test_prob = KNN_fit.predict_proba(X_test_scaled)\n",
    "\n",
    "    print(\"The precision for the K-nearest neighbours model with K = \" + str(K) + \" is:\")\n",
    "    purchase_predictions = np.sum(X_test_labels)\n",
    "    true_purchases = 0\n",
    "    for index, prediction in enumerate(X_test_labels):\n",
    "        if prediction == 1 and Y_test.iloc[index, 0] == 1:\n",
    "            true_purchases += 1\n",
    "    print(true_purchases / purchase_predictions * 100, \"%,\")\n",
    "    print(\"which includes \" + str(purchase_predictions) + \" total predictions of insurance purchasing.\\n\")"
   ]
  },
  {
   "cell_type": "markdown",
   "metadata": {},
   "source": [
    "### We see that for $K=3$ we get a high precision, as well as a good amount of purchase predictions, so that seems like the best model for this data set."
   ]
  },
  {
   "cell_type": "code",
   "execution_count": null,
   "metadata": {},
   "outputs": [],
   "source": []
  }
 ],
 "metadata": {
  "kernelspec": {
   "display_name": "Python 3.8.9 64-bit",
   "language": "python",
   "name": "python3"
  },
  "language_info": {
   "codemirror_mode": {
    "name": "ipython",
    "version": 3
   },
   "file_extension": ".py",
   "mimetype": "text/x-python",
   "name": "python",
   "nbconvert_exporter": "python",
   "pygments_lexer": "ipython3",
   "version": "3.9.6"
  },
  "orig_nbformat": 4,
  "vscode": {
   "interpreter": {
    "hash": "31f2aee4e71d21fbe5cf8b01ff0e069b9275f58929596ceb00d14d90e3e16cd6"
   }
  }
 },
 "nbformat": 4,
 "nbformat_minor": 2
}
