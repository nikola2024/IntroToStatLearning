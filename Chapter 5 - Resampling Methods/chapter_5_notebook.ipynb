{
 "cells": [
  {
   "cell_type": "markdown",
   "metadata": {},
   "source": [
    "# Cross-validation and the Bootstrap\n",
    "\n",
    "### In this lab we consider the cross-validation and bootstrap resampling methods, which are used to determine better estimates of various statistical quantities describing a given model, in comparison to doing so by using the training data set."
   ]
  },
  {
   "cell_type": "code",
   "execution_count": 2,
   "metadata": {},
   "outputs": [],
   "source": [
    "# import the necessary libraries\n",
    "import numpy as np\n",
    "import matplotlib.pyplot as plt\n",
    "import scipy\n",
    "import pandas as pd \n",
    "import math\n",
    "import random\n",
    "import statsmodels.api as sm\n",
    "import statsmodels.formula.api as smf\n",
    "from statsmodels.graphics.regressionplots import *\n",
    "from sklearn import datasets, linear_model\n",
    "from sklearn.model_selection import KFold, cross_val_score\n",
    "from sklearn.preprocessing import PolynomialFeatures\n",
    "from sklearn.linear_model import LinearRegression\n",
    "from sklearn.pipeline import Pipeline\n",
    "from collections import OrderedDict"
   ]
  },
  {
   "cell_type": "markdown",
   "metadata": {},
   "source": [
    "## 0. The Data Set\n",
    "### In this notebook we will be analysing the 'Auto' data set, which we already came across in Chapter 2's Lab. "
   ]
  },
  {
   "cell_type": "code",
   "execution_count": 6,
   "metadata": {},
   "outputs": [
    {
     "data": {
      "text/html": [
       "<div>\n",
       "<style scoped>\n",
       "    .dataframe tbody tr th:only-of-type {\n",
       "        vertical-align: middle;\n",
       "    }\n",
       "\n",
       "    .dataframe tbody tr th {\n",
       "        vertical-align: top;\n",
       "    }\n",
       "\n",
       "    .dataframe thead th {\n",
       "        text-align: right;\n",
       "    }\n",
       "</style>\n",
       "<table border=\"1\" class=\"dataframe\">\n",
       "  <thead>\n",
       "    <tr style=\"text-align: right;\">\n",
       "      <th></th>\n",
       "      <th>mpg</th>\n",
       "      <th>cylinders</th>\n",
       "      <th>displacement</th>\n",
       "      <th>horsepower</th>\n",
       "      <th>weight</th>\n",
       "      <th>acceleration</th>\n",
       "      <th>year</th>\n",
       "      <th>origin</th>\n",
       "      <th>name</th>\n",
       "    </tr>\n",
       "  </thead>\n",
       "  <tbody>\n",
       "    <tr>\n",
       "      <th>0</th>\n",
       "      <td>18.0</td>\n",
       "      <td>8</td>\n",
       "      <td>307.0</td>\n",
       "      <td>130.0</td>\n",
       "      <td>3504</td>\n",
       "      <td>12.0</td>\n",
       "      <td>70</td>\n",
       "      <td>1</td>\n",
       "      <td>chevrolet chevelle malibu</td>\n",
       "    </tr>\n",
       "    <tr>\n",
       "      <th>1</th>\n",
       "      <td>15.0</td>\n",
       "      <td>8</td>\n",
       "      <td>350.0</td>\n",
       "      <td>165.0</td>\n",
       "      <td>3693</td>\n",
       "      <td>11.5</td>\n",
       "      <td>70</td>\n",
       "      <td>1</td>\n",
       "      <td>buick skylark 320</td>\n",
       "    </tr>\n",
       "    <tr>\n",
       "      <th>2</th>\n",
       "      <td>18.0</td>\n",
       "      <td>8</td>\n",
       "      <td>318.0</td>\n",
       "      <td>150.0</td>\n",
       "      <td>3436</td>\n",
       "      <td>11.0</td>\n",
       "      <td>70</td>\n",
       "      <td>1</td>\n",
       "      <td>plymouth satellite</td>\n",
       "    </tr>\n",
       "    <tr>\n",
       "      <th>3</th>\n",
       "      <td>16.0</td>\n",
       "      <td>8</td>\n",
       "      <td>304.0</td>\n",
       "      <td>150.0</td>\n",
       "      <td>3433</td>\n",
       "      <td>12.0</td>\n",
       "      <td>70</td>\n",
       "      <td>1</td>\n",
       "      <td>amc rebel sst</td>\n",
       "    </tr>\n",
       "    <tr>\n",
       "      <th>4</th>\n",
       "      <td>17.0</td>\n",
       "      <td>8</td>\n",
       "      <td>302.0</td>\n",
       "      <td>140.0</td>\n",
       "      <td>3449</td>\n",
       "      <td>10.5</td>\n",
       "      <td>70</td>\n",
       "      <td>1</td>\n",
       "      <td>ford torino</td>\n",
       "    </tr>\n",
       "  </tbody>\n",
       "</table>\n",
       "</div>"
      ],
      "text/plain": [
       "    mpg  cylinders  displacement  horsepower  weight  acceleration  year  \\\n",
       "0  18.0          8         307.0       130.0    3504          12.0    70   \n",
       "1  15.0          8         350.0       165.0    3693          11.5    70   \n",
       "2  18.0          8         318.0       150.0    3436          11.0    70   \n",
       "3  16.0          8         304.0       150.0    3433          12.0    70   \n",
       "4  17.0          8         302.0       140.0    3449          10.5    70   \n",
       "\n",
       "   origin                       name  \n",
       "0       1  chevrolet chevelle malibu  \n",
       "1       1          buick skylark 320  \n",
       "2       1         plymouth satellite  \n",
       "3       1              amc rebel sst  \n",
       "4       1                ford torino  "
      ]
     },
     "execution_count": 6,
     "metadata": {},
     "output_type": "execute_result"
    }
   ],
   "source": [
    "Auto = pd.read_csv('Auto.csv', header=0, na_values='?')\n",
    "Auto.head()"
   ]
  },
  {
   "cell_type": "markdown",
   "metadata": {},
   "source": [
    "### As mentioned in Chapter 2, this data set contains entries with missing values for horsepower. We should remove these before performing any statistical analysis."
   ]
  },
  {
   "cell_type": "code",
   "execution_count": 7,
   "metadata": {},
   "outputs": [
    {
     "name": "stdout",
     "output_type": "stream",
     "text": [
      "Size of modified data set: (392, 9)\n"
     ]
    }
   ],
   "source": [
    "Auto = Auto.dropna().reset_index(drop=True)\n",
    "print(\"Size of modified data set:\", Auto.shape)"
   ]
  },
  {
   "cell_type": "markdown",
   "metadata": {},
   "source": [
    "### Overall, we have $392$ entries for cars, each containing 9 variables. The goal is to estimate the miles per gallon ('mpg') using the remaining (appropriate) features."
   ]
  },
  {
   "cell_type": "markdown",
   "metadata": {},
   "source": [
    "## 1. The validation set approach\n",
    "### We first consider fitting a simple linear regression using the feature 'horsepower' on a randomly selected half of the data set, and estimating the mean squared error (MSE) of our model using the other half as a test set."
   ]
  },
  {
   "cell_type": "code",
   "execution_count": 14,
   "metadata": {},
   "outputs": [],
   "source": [
    "# split the data into training and testing sets\n",
    "np.random.seed(1)\n",
    "train = np.random.choice(Auto.shape[0], 196, replace=False)\n",
    "select = np.in1d(range(Auto.shape[0]), train) # dataframe selection of randomly chosen samples"
   ]
  },
  {
   "cell_type": "markdown",
   "metadata": {},
   "source": [
    "### We will build five models, each one including higher order power of the 'horsepower' feature. For each model we will estimate the MSE and determine which is best."
   ]
  },
  {
   "cell_type": "code",
   "execution_count": 15,
   "metadata": {},
   "outputs": [
    {
     "name": "stdout",
     "output_type": "stream",
     "text": [
      "Model summary when including powers up to 1 :\n",
      "                            OLS Regression Results                            \n",
      "==============================================================================\n",
      "Dep. Variable:                    mpg   R-squared:                       0.620\n",
      "Model:                            OLS   Adj. R-squared:                  0.618\n",
      "Method:                 Least Squares   F-statistic:                     316.4\n",
      "Date:                Thu, 08 Sep 2022   Prob (F-statistic):           1.28e-42\n",
      "Time:                        19:20:15   Log-Likelihood:                -592.07\n",
      "No. Observations:                 196   AIC:                             1188.\n",
      "Df Residuals:                     194   BIC:                             1195.\n",
      "Df Model:                           1                                         \n",
      "Covariance Type:            nonrobust                                         \n",
      "==============================================================================\n",
      "                 coef    std err          t      P>|t|      [0.025      0.975]\n",
      "------------------------------------------------------------------------------\n",
      "Intercept     40.3338      1.023     39.416      0.000      38.316      42.352\n",
      "horsepower    -0.1596      0.009    -17.788      0.000      -0.177      -0.142\n",
      "==============================================================================\n",
      "Omnibus:                        8.393   Durbin-Watson:                   1.061\n",
      "Prob(Omnibus):                  0.015   Jarque-Bera (JB):                8.787\n",
      "Skew:                           0.516   Prob(JB):                       0.0124\n",
      "Kurtosis:                       2.899   Cond. No.                         328.\n",
      "==============================================================================\n",
      "\n",
      "Notes:\n",
      "[1] Standard Errors assume that the covariance matrix of the errors is correctly specified.\n",
      "Estimated MSE: 23.36190289258723\n",
      "\n",
      "\n",
      "Model summary when including powers up to 2 :\n",
      "                            OLS Regression Results                            \n",
      "==============================================================================\n",
      "Dep. Variable:                    mpg   R-squared:                       0.720\n",
      "Model:                            OLS   Adj. R-squared:                  0.717\n",
      "Method:                 Least Squares   F-statistic:                     248.0\n",
      "Date:                Thu, 08 Sep 2022   Prob (F-statistic):           4.60e-54\n",
      "Time:                        19:20:15   Log-Likelihood:                -562.15\n",
      "No. Observations:                 196   AIC:                             1130.\n",
      "Df Residuals:                     193   BIC:                             1140.\n",
      "Df Model:                           2                                         \n",
      "Covariance Type:            nonrobust                                         \n",
      "======================================================================================\n",
      "                         coef    std err          t      P>|t|      [0.025      0.975]\n",
      "--------------------------------------------------------------------------------------\n",
      "Intercept             60.3022      2.562     23.541      0.000      55.250      65.354\n",
      "horsepower            -0.5186      0.044    -11.807      0.000      -0.605      -0.432\n",
      "I(horsepower ** 2)     0.0014      0.000      8.302      0.000       0.001       0.002\n",
      "==============================================================================\n",
      "Omnibus:                        6.926   Durbin-Watson:                   1.298\n",
      "Prob(Omnibus):                  0.031   Jarque-Bera (JB):                9.679\n",
      "Skew:                           0.196   Prob(JB):                      0.00791\n",
      "Kurtosis:                       4.016   Cond. No.                     1.38e+05\n",
      "==============================================================================\n",
      "\n",
      "Notes:\n",
      "[1] Standard Errors assume that the covariance matrix of the errors is correctly specified.\n",
      "[2] The condition number is large, 1.38e+05. This might indicate that there are\n",
      "strong multicollinearity or other numerical problems.\n",
      "Estimated MSE: 20.252690858350142\n",
      "\n",
      "\n",
      "Model summary when including powers up to 3 :\n",
      "                            OLS Regression Results                            \n",
      "==============================================================================\n",
      "Dep. Variable:                    mpg   R-squared:                       0.722\n",
      "Model:                            OLS   Adj. R-squared:                  0.717\n",
      "Method:                 Least Squares   F-statistic:                     165.9\n",
      "Date:                Thu, 08 Sep 2022   Prob (F-statistic):           4.60e-53\n",
      "Time:                        19:20:15   Log-Likelihood:                -561.56\n",
      "No. Observations:                 196   AIC:                             1131.\n",
      "Df Residuals:                     192   BIC:                             1144.\n",
      "Df Model:                           3                                         \n",
      "Covariance Type:            nonrobust                                         \n",
      "======================================================================================\n",
      "                         coef    std err          t      P>|t|      [0.025      0.975]\n",
      "--------------------------------------------------------------------------------------\n",
      "Intercept             66.5200      6.310     10.541      0.000      54.073      78.967\n",
      "horsepower            -0.6868      0.162     -4.238      0.000      -1.006      -0.367\n",
      "I(horsepower ** 2)     0.0028      0.001      2.157      0.032       0.000       0.005\n",
      "I(horsepower ** 3) -3.524e-06   3.27e-06     -1.078      0.282   -9.97e-06    2.92e-06\n",
      "==============================================================================\n",
      "Omnibus:                        9.054   Durbin-Watson:                   1.328\n",
      "Prob(Omnibus):                  0.011   Jarque-Bera (JB):               15.936\n",
      "Skew:                           0.174   Prob(JB):                     0.000346\n",
      "Kurtosis:                       4.353   Cond. No.                     5.83e+07\n",
      "==============================================================================\n",
      "\n",
      "Notes:\n",
      "[1] Standard Errors assume that the covariance matrix of the errors is correctly specified.\n",
      "[2] The condition number is large, 5.83e+07. This might indicate that there are\n",
      "strong multicollinearity or other numerical problems.\n",
      "Estimated MSE: 20.32560936559877\n",
      "\n",
      "\n",
      "Model summary when including powers up to 4 :\n",
      "                            OLS Regression Results                            \n",
      "==============================================================================\n",
      "Dep. Variable:                    mpg   R-squared:                       0.724\n",
      "Model:                            OLS   Adj. R-squared:                  0.718\n",
      "Method:                 Least Squares   F-statistic:                     125.0\n",
      "Date:                Thu, 08 Sep 2022   Prob (F-statistic):           3.30e-52\n",
      "Time:                        19:20:15   Log-Likelihood:                -560.87\n",
      "No. Observations:                 196   AIC:                             1132.\n",
      "Df Residuals:                     191   BIC:                             1148.\n",
      "Df Model:                           4                                         \n",
      "Covariance Type:            nonrobust                                         \n",
      "======================================================================================\n",
      "                         coef    std err          t      P>|t|      [0.025      0.975]\n",
      "--------------------------------------------------------------------------------------\n",
      "Intercept             48.8257     16.478      2.963      0.003      16.323      81.328\n",
      "horsepower            -0.0232      0.593     -0.039      0.969      -1.194       1.147\n",
      "I(horsepower ** 2)    -0.0058      0.008     -0.774      0.440      -0.021       0.009\n",
      "I(horsepower ** 3)  4.294e-05   4.01e-05      1.071      0.286   -3.62e-05       0.000\n",
      "I(horsepower ** 4) -8.759e-08   7.54e-08     -1.162      0.247   -2.36e-07    6.11e-08\n",
      "==============================================================================\n",
      "Omnibus:                        7.584   Durbin-Watson:                   1.300\n",
      "Prob(Omnibus):                  0.023   Jarque-Bera (JB):               10.961\n",
      "Skew:                           0.212   Prob(JB):                      0.00417\n",
      "Kurtosis:                       4.079   Cond. No.                     2.86e+10\n",
      "==============================================================================\n",
      "\n",
      "Notes:\n",
      "[1] Standard Errors assume that the covariance matrix of the errors is correctly specified.\n",
      "[2] The condition number is large, 2.86e+10. This might indicate that there are\n",
      "strong multicollinearity or other numerical problems.\n",
      "Estimated MSE: 20.34388710646479\n",
      "\n",
      "\n",
      "Model summary when including powers up to 5 :\n",
      "                            OLS Regression Results                            \n",
      "==============================================================================\n",
      "Dep. Variable:                    mpg   R-squared:                       0.732\n",
      "Model:                            OLS   Adj. R-squared:                  0.724\n",
      "Method:                 Least Squares   F-statistic:                     103.5\n",
      "Date:                Thu, 08 Sep 2022   Prob (F-statistic):           2.51e-52\n",
      "Time:                        19:20:15   Log-Likelihood:                -558.01\n",
      "No. Observations:                 196   AIC:                             1128.\n",
      "Df Residuals:                     190   BIC:                             1148.\n",
      "Df Model:                           5                                         \n",
      "Covariance Type:            nonrobust                                         \n",
      "======================================================================================\n",
      "                         coef    std err          t      P>|t|      [0.025      0.975]\n",
      "--------------------------------------------------------------------------------------\n",
      "Intercept            -37.4232     39.860     -0.939      0.349    -116.049      41.202\n",
      "horsepower             4.0803      1.828      2.233      0.027       0.475       7.685\n",
      "I(horsepower ** 2)    -0.0790      0.032     -2.488      0.014      -0.142      -0.016\n",
      "I(horsepower ** 3)     0.0007      0.000      2.507      0.013       0.000       0.001\n",
      "I(horsepower ** 4) -2.523e-06   1.03e-06     -2.449      0.015   -4.55e-06   -4.91e-07\n",
      "I(horsepower ** 5)  3.673e-09   1.55e-09      2.371      0.019    6.17e-10    6.73e-09\n",
      "==============================================================================\n",
      "Omnibus:                        9.291   Durbin-Watson:                   1.304\n",
      "Prob(Omnibus):                  0.010   Jarque-Bera (JB):               11.621\n",
      "Skew:                           0.347   Prob(JB):                      0.00300\n",
      "Kurtosis:                       3.970   Cond. No.                     1.39e+13\n",
      "==============================================================================\n",
      "\n",
      "Notes:\n",
      "[1] Standard Errors assume that the covariance matrix of the errors is correctly specified.\n",
      "[2] The condition number is large, 1.39e+13. This might indicate that there are\n",
      "strong multicollinearity or other numerical problems.\n",
      "Estimated MSE: 20.03629104396102\n",
      "\n",
      "\n"
     ]
    }
   ],
   "source": [
    "max_power = 5\n",
    "powers = np.arange(1, max_power + 1, 1, dtype=int)\n",
    "formula = \"mpg~horsepower\"\n",
    "for power in powers:\n",
    "\n",
    "    # create formula\n",
    "    if power > 1:\n",
    "        formula = formula + \"+I(horsepower **\" + str(power) + \")\"\n",
    "\n",
    "    # fit the model\n",
    "    model = smf.ols(formula=formula, data = Auto[select]).fit()\n",
    "    # print summary of the model\n",
    "    print(\"Model summary when including powers up to\", power, \":\")\n",
    "    print(model.summary())\n",
    "\n",
    "    # perform predictions using the model and estimate the MSE\n",
    "    predictions = model.predict(Auto)\n",
    "    squared_error_all = (Auto['mpg'] - predictions)**2\n",
    "    MSE_test = squared_error_all[~select].mean()\n",
    "    print(\"Estimated MSE:\", MSE_test)\n",
    "    print(\"\\n\")\n",
    "\n"
   ]
  },
  {
   "cell_type": "markdown",
   "metadata": {},
   "source": [
    "### From the output we see that there is a significant decrease in the MSE only when we include the second power of 'horsepower', suggesting that there is some non-linearity in the data. Inclusion of higher-order features leads to no significant benefit as can be seen both by the relatively large $p$-values, and the small change in MSE.\n",
    "### Note, however, that if we perform the same analysis using a different random seed, i.e., a different splitting of the data into training and testing data sets, we will get slightly different MSE-s. Therefore, we should better use a different approach to estimate the MSE."
   ]
  },
  {
   "cell_type": "markdown",
   "metadata": {},
   "source": [
    "## 2. Leave-One-Out Cross-Validation\n",
    "### An alternative approach is to just leave out one sample of the whole data set into the validation subset, and use all others to fit the model. This is reapeated for all possible choices of the left out sample, and the average of the statistical quantities over all models are considered good estimates."
   ]
  },
  {
   "cell_type": "code",
   "execution_count": 22,
   "metadata": {},
   "outputs": [
    {
     "name": "stdout",
     "output_type": "stream",
     "text": [
      "Estimated MSE using leave-one-out cross-validation for single feature: 24.231513517929233\n"
     ]
    }
   ],
   "source": [
    "x = pd.DataFrame(Auto.horsepower)\n",
    "y = Auto.mpg\n",
    "\n",
    "model = LinearRegression()\n",
    "k_fold = KFold(n_splits=Auto.shape[0])\n",
    "test = cross_val_score(model, x, y, cv=k_fold, scoring='neg_mean_squared_error', n_jobs=-1)\n",
    "print(\"Estimated MSE using leave-one-out cross-validation for single feature:\", np.mean(test) * -1)"
   ]
  },
  {
   "cell_type": "code",
   "execution_count": 25,
   "metadata": {},
   "outputs": [
    {
     "name": "stdout",
     "output_type": "stream",
     "text": [
      "Fitting model of order 1\n",
      "Fitting model of order 2\n",
      "Fitting model of order 3\n",
      "Fitting model of order 4\n",
      "Fitting model of order 5\n",
      "Fitting model of order 6\n",
      "Fitting model of order 7\n",
      "Fitting model of order 8\n",
      "Fitting model of order 9\n",
      "Fitting model of order 10\n",
      "Fitting model of order 11\n",
      "Fitting model of order 12\n"
     ]
    },
    {
     "data": {
      "image/png": "[encoded data removed]",
      "text/plain": [
       "<Figure size 640x480 with 1 Axes>"
      ]
     },
     "metadata": {},
     "output_type": "display_data"
    }
   ],
   "source": [
    "# To estimate the MSE for models containing different powers of horsepower we need to use the Pipeline tool\n",
    "orders = np.arange(1, 13, 1, dtype=int)\n",
    "MSE_values = []\n",
    "\n",
    "for order in orders:\n",
    "\n",
    "    print(\"Fitting model of order\", order)\n",
    "    model = Pipeline([('poly', PolynomialFeatures(degree=order)), ('linear', LinearRegression())])\n",
    "    k_fold = KFold(n_splits = Auto.shape[0])\n",
    "    test = cross_val_score(model, x, y, cv=k_fold, scoring='neg_mean_squared_error', n_jobs=-1)\n",
    "    MSE_values.append(np.mean(test) * -1)\n",
    "\n",
    "plt.plot(orders, MSE_values)\n",
    "plt.xlabel(\"Highest order in model\")\n",
    "plt.ylabel(\"MSE estimate\")\n",
    "plt.show()"
   ]
  },
  {
   "cell_type": "code",
   "execution_count": 27,
   "metadata": {},
   "outputs": [
    {
     "name": "stdout",
     "output_type": "stream",
     "text": [
      "MSE for order 2: 19.248213124489574\n"
     ]
    }
   ],
   "source": [
    "print(\"MSE for order 2:\", MSE_values[1])"
   ]
  },
  {
   "cell_type": "markdown",
   "metadata": {},
   "source": [
    "### We see that the MSE barely decreases once we include orders larger than $2$. Hence, we can conclude that the best model, i.e., the one with the lowest MSE occurs for an order of $2$, and has an MSE of $\\sim 19.2$."
   ]
  },
  {
   "cell_type": "markdown",
   "metadata": {},
   "source": [
    "## 3. K-fold Cross-Validation\n",
    "### On large data sets it will take a long time to consider all leave-one-out cross-validation models. Hence, we can instead split the data set into larger chunks, say $K=10$, use $K-1$ of these to train the model, and test it on the remaining subset. We then take the averages over all trained models as estimates of the relevant statistical quantities. Note that this only makes sense for models more complex than a least squares linear model, since there is actually a closed-form expression for the LOOCV MSE. Nonetheless, here we saw that the best model actually includes a second order feature, so the K-fold cross-validation approach is still relevant."
   ]
  },
  {
   "cell_type": "code",
   "execution_count": 36,
   "metadata": {},
   "outputs": [
    {
     "name": "stdout",
     "output_type": "stream",
     "text": [
      "Fitting model of order 1\n",
      "Fitting model of order 2\n",
      "Fitting model of order 3\n",
      "Fitting model of order 4\n",
      "Fitting model of order 5\n",
      "Fitting model of order 6\n",
      "Fitting model of order 7\n",
      "Fitting model of order 8\n",
      "Fitting model of order 9\n",
      "Fitting model of order 10\n",
      "Fitting model of order 11\n",
      "Fitting model of order 12\n"
     ]
    },
    {
     "data": {
      "image/png": "[encoded data removed]",
      "text/plain": [
       "<Figure size 640x480 with 1 Axes>"
      ]
     },
     "metadata": {},
     "output_type": "display_data"
    }
   ],
   "source": [
    "orders = np.arange(1, 13, 1, dtype=int)\n",
    "K=10\n",
    "MSE_values = []\n",
    "\n",
    "for order in orders:\n",
    "\n",
    "    print(\"Fitting model of order\", order)\n",
    "    model = Pipeline([('poly', PolynomialFeatures(degree=order)), ('linear', LinearRegression())])\n",
    "    k_fold = KFold(n_splits = K)\n",
    "    test = cross_val_score(model, x, y, cv=k_fold, scoring='neg_mean_squared_error', n_jobs=-1)\n",
    "    MSE_values.append(np.mean(test) * -1)\n",
    "\n",
    "plt.plot(orders, MSE_values)\n",
    "plt.xlabel(\"Highest order in model\")\n",
    "plt.ylabel(\"MSE estimate\")\n",
    "plt.show()"
   ]
  },
  {
   "cell_type": "markdown",
   "metadata": {},
   "source": [
    "### We see that the plot has an extremely similar shape to the leave-one-out case. Clearly, there is also a difference in the estimated MSE values, but the exact value of this quantity is rarely of physical importance. The important point is that we can still conclude that there is benefit to including higher order features, but only up to quadratic order. And this conclusion can be reached much fast using the $K$-fold cross validation approach, compared to the leave-one-out."
   ]
  },
  {
   "cell_type": "markdown",
   "metadata": {},
   "source": [
    "## 4. The Bootstrap\n",
    "### The bootstrap method can be used to estimate errors in quantities depending on random variables. Consider for instance the following problem: we want to invest some amount of money into two assets that yield returns $X$ and $Y$. We define our investment through the parameter $\\alpha$ which corresponds to the fraction of money going into the asset with return $X$. One strategy is to choose $\\alpha$ such that the risk of our investment is minimum, i.e., we want to minimise $\\text{Var}\\left(\\alpha X + (1-\\alpha)Y\\right)$. We can show that the optimal value for the parameter is given by the expression: $$\\alpha_o=\\frac{\\sigma_Y^2-\\sigma_{XY}}{\\sigma_X^2+\\sigma_Y^2-2\\sigma_{XY}}.$$ However, we likely have only a data set of past returns $X$ and $Y$, from which we can only estimate the variances and covariances. The bootstrap method provides a way of providing good estimates for these quantites. We evaluate the statistical quantities for many different data sets, all created from the original data set, but containing randomly selected samples which may be repeated.\n",
    "### We will demonstrate this approach using the Portforlio data set containing 100 samples for $X$ and $Y$, simulated with a value of $\\alpha=0.6$."
   ]
  },
  {
   "cell_type": "code",
   "execution_count": 37,
   "metadata": {},
   "outputs": [
    {
     "name": "stdout",
     "output_type": "stream",
     "text": [
      "          X         Y\n",
      "0 -0.895251 -0.234924\n",
      "1 -1.562454 -0.885176\n",
      "2 -0.417090  0.271888\n",
      "3  1.044356 -0.734198\n",
      "4 -0.315568  0.841983\n",
      "(100, 2)\n"
     ]
    }
   ],
   "source": [
    "Portfolio = pd.read_csv('Portfolio.csv', header=0)\n",
    "print(Portfolio.head())\n",
    "print(Portfolio.shape)"
   ]
  },
  {
   "cell_type": "code",
   "execution_count": 50,
   "metadata": {},
   "outputs": [],
   "source": [
    "# define a function which evaluate the optimal parameter alpha for some passed data sets\n",
    "def alpha(X, Y):\n",
    "\n",
    "    covariance = np.cov(X, Y)[0,1]\n",
    "    var_X = np.var(X)\n",
    "    var_Y = np.var(Y)\n",
    "    result = (var_Y - covariance) / (var_Y + var_X - 2 * covariance)\n",
    "    return result"
   ]
  },
  {
   "cell_type": "code",
   "execution_count": 51,
   "metadata": {},
   "outputs": [],
   "source": [
    "# define a function which performs the bootstrap operation\n",
    "def bootstrap(data, func, no_iterations = 1000):\n",
    "\n",
    "    values = []\n",
    "\n",
    "    for iteration in range(no_iterations):\n",
    "\n",
    "        # generate a random subset of the data with repetition\n",
    "        subset_indices = np.random.choice(range(0, data.shape[0]), size=data.shape[0], replace=True)\n",
    "        values.append(func(data.X.iloc[subset_indices], data.Y.iloc[subset_indices]))\n",
    "\n",
    "    mean_value = np.mean(values)\n",
    "    mean_error = np.std(values)\n",
    "    return (mean_value, mean_error)"
   ]
  },
  {
   "cell_type": "code",
   "execution_count": 52,
   "metadata": {},
   "outputs": [],
   "source": [
    "bootstrap_results = bootstrap(Portfolio, alpha)"
   ]
  },
  {
   "cell_type": "code",
   "execution_count": 56,
   "metadata": {},
   "outputs": [
    {
     "name": "stdout",
     "output_type": "stream",
     "text": [
      "The bootstrap estimate of alpha is 0.58 with error 0.09\n"
     ]
    }
   ],
   "source": [
    "print(\"The bootstrap estimate of alpha is \" + str(round(bootstrap_results[0], 2)) + \" with error \" + str(round(bootstrap_results[1], 2)))"
   ]
  },
  {
   "cell_type": "code",
   "execution_count": 57,
   "metadata": {},
   "outputs": [
    {
     "name": "stdout",
     "output_type": "stream",
     "text": [
      "The estimate when simply using the full data set is 0.58\n"
     ]
    }
   ],
   "source": [
    "# to compare, consider the estimate when we simply use the full data set\n",
    "print(\"The estimate when simply using the full data set is \" + str(round(alpha(Portfolio.X, Portfolio.Y), 2)))"
   ]
  },
  {
   "cell_type": "markdown",
   "metadata": {},
   "source": [
    "### Overall, we see that we get the same estimate for $\\alpha$ when using the bootstrap method, despite using repeating samples, while also being able to estimate the error in this estimate. Hence, we see the power of the bootstrap approach. Common uses include error estimation for fitted parameters in models when closed form expressions for them do not exist, or if they do (linear regression) - when they rely on some assumptions about the distribution which are likely not true."
   ]
  },
  {
   "cell_type": "code",
   "execution_count": null,
   "metadata": {},
   "outputs": [],
   "source": []
  }
 ],
 "metadata": {
  "kernelspec": {
   "display_name": "Python 3.8.9 64-bit",
   "language": "python",
   "name": "python3"
  },
  "language_info": {
   "codemirror_mode": {
    "name": "ipython",
    "version": 3
   },
   "file_extension": ".py",
   "mimetype": "text/x-python",
   "name": "python",
   "nbconvert_exporter": "python",
   "pygments_lexer": "ipython3",
   "version": "3.9.6"
  },
  "orig_nbformat": 4,
  "vscode": {
   "interpreter": {
    "hash": "31f2aee4e71d21fbe5cf8b01ff0e069b9275f58929596ceb00d14d90e3e16cd6"
   }
  }
 },
 "nbformat": 4,
 "nbformat_minor": 2
}
